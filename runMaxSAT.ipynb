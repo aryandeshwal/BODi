{
 "cells": [
  {
   "cell_type": "code",
   "execution_count": null,
   "id": "20603842",
   "metadata": {},
   "outputs": [],
   "source": [
    "from bodi.run_experiment import run_experiment"
   ]
  },
  {
   "cell_type": "code",
   "execution_count": null,
   "id": "3166b920",
   "metadata": {},
   "outputs": [],
   "source": [
    "X, Y, metadata = run_experiment(\n",
    "    n_replications=1,\n",
    "    evalfn=\"MaxSAT60\",\n",
    "    max_evals=40,\n",
    "    n_initial_points=20,\n",
    "    batch_size=1,\n",
    "    n_binary=60,\n",
    "    n_categorical=0,\n",
    "    n_continuous=0,\n",
    "    init_with_k_spaced_binary_sobol=True,\n",
    "    n_prototype_vectors=64,\n",
    "    verbose=True,\n",
    ")"
   ]
  },
  {
   "cell_type": "code",
   "execution_count": null,
   "id": "3465c6ff",
   "metadata": {},
   "outputs": [],
   "source": []
  }
 ],
 "metadata": {
  "kernelspec": {
   "display_name": "Python 3 (ipykernel)",
   "language": "python",
   "name": "python3"
  },
  "language_info": {
   "codemirror_mode": {
    "name": "ipython",
    "version": 3
   },
   "file_extension": ".py",
   "mimetype": "text/x-python",
   "name": "python",
   "nbconvert_exporter": "python",
   "pygments_lexer": "ipython3",
   "version": "3.11.0"
  }
 },
 "nbformat": 4,
 "nbformat_minor": 5
}
